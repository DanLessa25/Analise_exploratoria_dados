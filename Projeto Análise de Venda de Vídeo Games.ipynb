{
 "cells": [
  {
   "cell_type": "markdown",
   "metadata": {},
   "source": [
    "# Etapas do Projeto de Análise Exploratória de Dados\n",
    "\n",
    "**1. Etapa:**\n",
    "\n",
    "- Importação das bibliotecas\n",
    "- Verificar uma amostra do dados com head\n",
    "- Verificar como estão as informações com o método info()\n",
    "- Verificar o tamanho do conjunto de dados com shape()\n",
    "- Verificar quais o tipos das colunas, e caso for preciso, transformar para os tipos corretos\n",
    "- Verificar se no conjunto de dados possui valores NaN\n",
    "- Remover o valores NaN do dataframe\n",
    "\n",
    "**2. Etapa:**\n",
    "\n",
    "- Analisar os dados de forma investigativa e responder as perguntas de negócios\n",
    "\n",
    "**3. Etapa:** \n",
    "\n",
    "- Data Visualization"
   ]
  },
  {
   "cell_type": "markdown",
   "metadata": {},
   "source": [
    "## Carregando o dataset"
   ]
  },
  {
   "cell_type": "code",
   "execution_count": 1,
   "metadata": {
    "ExecuteTime": {
     "end_time": "2021-07-30T20:42:10.971124Z",
     "start_time": "2021-07-30T20:42:10.962089Z"
    }
   },
   "outputs": [],
   "source": [
    "# Importando as bibliotecas necessárias para análise\n",
    "import pandas as pd\n",
    "import numpy as np\n",
    "\n",
    "\n",
    "# Bibliotecas para visualização de dados\n",
    "import seaborn as sns\n",
    "import matplotlib.pyplot as plt\n",
    "%matplotlib inline\n"
   ]
  },
  {
   "cell_type": "markdown",
   "metadata": {},
   "source": [
    "**Leia o arquivo vgsales.csv como um DataFrame chamado \"dados\".**"
   ]
  },
  {
   "cell_type": "code",
   "execution_count": 2,
   "metadata": {
    "ExecuteTime": {
     "end_time": "2021-07-27T16:12:41.552250Z",
     "start_time": "2021-07-27T16:12:41.490347Z"
    }
   },
   "outputs": [],
   "source": [
    "dados = pd.read_csv('vgsales.csv')"
   ]
  },
  {
   "cell_type": "markdown",
   "metadata": {},
   "source": [
    "**Verifique o \"head\" do DataFrame**"
   ]
  },
  {
   "cell_type": "code",
   "execution_count": 3,
   "metadata": {
    "ExecuteTime": {
     "end_time": "2021-07-27T16:12:41.584135Z",
     "start_time": "2021-07-27T16:12:41.555139Z"
    }
   },
   "outputs": [
    {
     "data": {
      "text/html": [
       "<div>\n",
       "<style scoped>\n",
       "    .dataframe tbody tr th:only-of-type {\n",
       "        vertical-align: middle;\n",
       "    }\n",
       "\n",
       "    .dataframe tbody tr th {\n",
       "        vertical-align: top;\n",
       "    }\n",
       "\n",
       "    .dataframe thead th {\n",
       "        text-align: right;\n",
       "    }\n",
       "</style>\n",
       "<table border=\"1\" class=\"dataframe\">\n",
       "  <thead>\n",
       "    <tr style=\"text-align: right;\">\n",
       "      <th></th>\n",
       "      <th>Rank</th>\n",
       "      <th>Name</th>\n",
       "      <th>Platform</th>\n",
       "      <th>Year</th>\n",
       "      <th>Genre</th>\n",
       "      <th>Publisher</th>\n",
       "      <th>NA_Sales</th>\n",
       "      <th>EU_Sales</th>\n",
       "      <th>JP_Sales</th>\n",
       "      <th>Other_Sales</th>\n",
       "      <th>Global_Sales</th>\n",
       "    </tr>\n",
       "  </thead>\n",
       "  <tbody>\n",
       "    <tr>\n",
       "      <th>0</th>\n",
       "      <td>1</td>\n",
       "      <td>Wii Sports</td>\n",
       "      <td>Wii</td>\n",
       "      <td>2006.0</td>\n",
       "      <td>Sports</td>\n",
       "      <td>Nintendo</td>\n",
       "      <td>41.49</td>\n",
       "      <td>29.02</td>\n",
       "      <td>3.77</td>\n",
       "      <td>8.46</td>\n",
       "      <td>82.74</td>\n",
       "    </tr>\n",
       "    <tr>\n",
       "      <th>1</th>\n",
       "      <td>2</td>\n",
       "      <td>Super Mario Bros.</td>\n",
       "      <td>NES</td>\n",
       "      <td>1985.0</td>\n",
       "      <td>Platform</td>\n",
       "      <td>Nintendo</td>\n",
       "      <td>29.08</td>\n",
       "      <td>3.58</td>\n",
       "      <td>6.81</td>\n",
       "      <td>0.77</td>\n",
       "      <td>40.24</td>\n",
       "    </tr>\n",
       "    <tr>\n",
       "      <th>2</th>\n",
       "      <td>3</td>\n",
       "      <td>Mario Kart Wii</td>\n",
       "      <td>Wii</td>\n",
       "      <td>2008.0</td>\n",
       "      <td>Racing</td>\n",
       "      <td>Nintendo</td>\n",
       "      <td>15.85</td>\n",
       "      <td>12.88</td>\n",
       "      <td>3.79</td>\n",
       "      <td>3.31</td>\n",
       "      <td>35.82</td>\n",
       "    </tr>\n",
       "    <tr>\n",
       "      <th>3</th>\n",
       "      <td>4</td>\n",
       "      <td>Wii Sports Resort</td>\n",
       "      <td>Wii</td>\n",
       "      <td>2009.0</td>\n",
       "      <td>Sports</td>\n",
       "      <td>Nintendo</td>\n",
       "      <td>15.75</td>\n",
       "      <td>11.01</td>\n",
       "      <td>3.28</td>\n",
       "      <td>2.96</td>\n",
       "      <td>33.00</td>\n",
       "    </tr>\n",
       "    <tr>\n",
       "      <th>4</th>\n",
       "      <td>5</td>\n",
       "      <td>Pokemon Red/Pokemon Blue</td>\n",
       "      <td>GB</td>\n",
       "      <td>1996.0</td>\n",
       "      <td>Role-Playing</td>\n",
       "      <td>Nintendo</td>\n",
       "      <td>11.27</td>\n",
       "      <td>8.89</td>\n",
       "      <td>10.22</td>\n",
       "      <td>1.00</td>\n",
       "      <td>31.37</td>\n",
       "    </tr>\n",
       "  </tbody>\n",
       "</table>\n",
       "</div>"
      ],
      "text/plain": [
       "   Rank                      Name Platform    Year         Genre Publisher  \\\n",
       "0     1                Wii Sports      Wii  2006.0        Sports  Nintendo   \n",
       "1     2         Super Mario Bros.      NES  1985.0      Platform  Nintendo   \n",
       "2     3            Mario Kart Wii      Wii  2008.0        Racing  Nintendo   \n",
       "3     4         Wii Sports Resort      Wii  2009.0        Sports  Nintendo   \n",
       "4     5  Pokemon Red/Pokemon Blue       GB  1996.0  Role-Playing  Nintendo   \n",
       "\n",
       "   NA_Sales  EU_Sales  JP_Sales  Other_Sales  Global_Sales  \n",
       "0     41.49     29.02      3.77         8.46         82.74  \n",
       "1     29.08      3.58      6.81         0.77         40.24  \n",
       "2     15.85     12.88      3.79         3.31         35.82  \n",
       "3     15.75     11.01      3.28         2.96         33.00  \n",
       "4     11.27      8.89     10.22         1.00         31.37  "
      ]
     },
     "execution_count": 3,
     "metadata": {},
     "output_type": "execute_result"
    }
   ],
   "source": [
    "dados.head()"
   ]
  },
  {
   "cell_type": "markdown",
   "metadata": {},
   "source": [
    "## Data Clean - Limpeza e Transformação de Dados"
   ]
  },
  {
   "cell_type": "markdown",
   "metadata": {
    "ExecuteTime": {
     "end_time": "2021-07-27T01:37:13.257510Z",
     "start_time": "2021-07-27T01:37:13.242854Z"
    }
   },
   "source": [
    "**Renomear os nomes das colunas para Português BR**"
   ]
  },
  {
   "cell_type": "code",
   "execution_count": 4,
   "metadata": {
    "ExecuteTime": {
     "end_time": "2021-07-27T16:12:41.600018Z",
     "start_time": "2021-07-27T16:12:41.586057Z"
    }
   },
   "outputs": [],
   "source": [
    "# Nesse passo as colunas já são renomeadas com os valores da lista\n",
    "dados.columns = ['Ranking', 'Nome', 'Plataforma', 'Ano', 'Gênero', 'Editora', 'Vendas America do Norte', \n",
    "                 'Vendas Europa', 'Vendas Japão', 'Outras Vendas', 'Vendas Globais']"
   ]
  },
  {
   "cell_type": "markdown",
   "metadata": {},
   "source": [
    "**Após renomear as colunas, iremos visualizar as primeiras linhas do dataset**"
   ]
  },
  {
   "cell_type": "code",
   "execution_count": 5,
   "metadata": {
    "ExecuteTime": {
     "end_time": "2021-07-27T16:12:41.629943Z",
     "start_time": "2021-07-27T16:12:41.602014Z"
    }
   },
   "outputs": [
    {
     "data": {
      "text/html": [
       "<div>\n",
       "<style scoped>\n",
       "    .dataframe tbody tr th:only-of-type {\n",
       "        vertical-align: middle;\n",
       "    }\n",
       "\n",
       "    .dataframe tbody tr th {\n",
       "        vertical-align: top;\n",
       "    }\n",
       "\n",
       "    .dataframe thead th {\n",
       "        text-align: right;\n",
       "    }\n",
       "</style>\n",
       "<table border=\"1\" class=\"dataframe\">\n",
       "  <thead>\n",
       "    <tr style=\"text-align: right;\">\n",
       "      <th></th>\n",
       "      <th>Ranking</th>\n",
       "      <th>Nome</th>\n",
       "      <th>Plataforma</th>\n",
       "      <th>Ano</th>\n",
       "      <th>Gênero</th>\n",
       "      <th>Editora</th>\n",
       "      <th>Vendas America do Norte</th>\n",
       "      <th>Vendas Europa</th>\n",
       "      <th>Vendas Japão</th>\n",
       "      <th>Outras Vendas</th>\n",
       "      <th>Vendas Globais</th>\n",
       "    </tr>\n",
       "  </thead>\n",
       "  <tbody>\n",
       "    <tr>\n",
       "      <th>0</th>\n",
       "      <td>1</td>\n",
       "      <td>Wii Sports</td>\n",
       "      <td>Wii</td>\n",
       "      <td>2006.0</td>\n",
       "      <td>Sports</td>\n",
       "      <td>Nintendo</td>\n",
       "      <td>41.49</td>\n",
       "      <td>29.02</td>\n",
       "      <td>3.77</td>\n",
       "      <td>8.46</td>\n",
       "      <td>82.74</td>\n",
       "    </tr>\n",
       "    <tr>\n",
       "      <th>1</th>\n",
       "      <td>2</td>\n",
       "      <td>Super Mario Bros.</td>\n",
       "      <td>NES</td>\n",
       "      <td>1985.0</td>\n",
       "      <td>Platform</td>\n",
       "      <td>Nintendo</td>\n",
       "      <td>29.08</td>\n",
       "      <td>3.58</td>\n",
       "      <td>6.81</td>\n",
       "      <td>0.77</td>\n",
       "      <td>40.24</td>\n",
       "    </tr>\n",
       "    <tr>\n",
       "      <th>2</th>\n",
       "      <td>3</td>\n",
       "      <td>Mario Kart Wii</td>\n",
       "      <td>Wii</td>\n",
       "      <td>2008.0</td>\n",
       "      <td>Racing</td>\n",
       "      <td>Nintendo</td>\n",
       "      <td>15.85</td>\n",
       "      <td>12.88</td>\n",
       "      <td>3.79</td>\n",
       "      <td>3.31</td>\n",
       "      <td>35.82</td>\n",
       "    </tr>\n",
       "    <tr>\n",
       "      <th>3</th>\n",
       "      <td>4</td>\n",
       "      <td>Wii Sports Resort</td>\n",
       "      <td>Wii</td>\n",
       "      <td>2009.0</td>\n",
       "      <td>Sports</td>\n",
       "      <td>Nintendo</td>\n",
       "      <td>15.75</td>\n",
       "      <td>11.01</td>\n",
       "      <td>3.28</td>\n",
       "      <td>2.96</td>\n",
       "      <td>33.00</td>\n",
       "    </tr>\n",
       "    <tr>\n",
       "      <th>4</th>\n",
       "      <td>5</td>\n",
       "      <td>Pokemon Red/Pokemon Blue</td>\n",
       "      <td>GB</td>\n",
       "      <td>1996.0</td>\n",
       "      <td>Role-Playing</td>\n",
       "      <td>Nintendo</td>\n",
       "      <td>11.27</td>\n",
       "      <td>8.89</td>\n",
       "      <td>10.22</td>\n",
       "      <td>1.00</td>\n",
       "      <td>31.37</td>\n",
       "    </tr>\n",
       "  </tbody>\n",
       "</table>\n",
       "</div>"
      ],
      "text/plain": [
       "   Ranking                      Nome Plataforma     Ano        Gênero  \\\n",
       "0        1                Wii Sports        Wii  2006.0        Sports   \n",
       "1        2         Super Mario Bros.        NES  1985.0      Platform   \n",
       "2        3            Mario Kart Wii        Wii  2008.0        Racing   \n",
       "3        4         Wii Sports Resort        Wii  2009.0        Sports   \n",
       "4        5  Pokemon Red/Pokemon Blue         GB  1996.0  Role-Playing   \n",
       "\n",
       "    Editora  Vendas America do Norte  Vendas Europa  Vendas Japão  \\\n",
       "0  Nintendo                    41.49          29.02          3.77   \n",
       "1  Nintendo                    29.08           3.58          6.81   \n",
       "2  Nintendo                    15.85          12.88          3.79   \n",
       "3  Nintendo                    15.75          11.01          3.28   \n",
       "4  Nintendo                    11.27           8.89         10.22   \n",
       "\n",
       "   Outras Vendas  Vendas Globais  \n",
       "0           8.46           82.74  \n",
       "1           0.77           40.24  \n",
       "2           3.31           35.82  \n",
       "3           2.96           33.00  \n",
       "4           1.00           31.37  "
      ]
     },
     "execution_count": 5,
     "metadata": {},
     "output_type": "execute_result"
    }
   ],
   "source": [
    "dados.head()"
   ]
  },
  {
   "cell_type": "markdown",
   "metadata": {},
   "source": [
    "**Verifique as ultimas linhas do dataset**"
   ]
  },
  {
   "cell_type": "code",
   "execution_count": 6,
   "metadata": {
    "ExecuteTime": {
     "end_time": "2021-07-27T16:12:41.661966Z",
     "start_time": "2021-07-27T16:12:41.631934Z"
    }
   },
   "outputs": [
    {
     "data": {
      "text/html": [
       "<div>\n",
       "<style scoped>\n",
       "    .dataframe tbody tr th:only-of-type {\n",
       "        vertical-align: middle;\n",
       "    }\n",
       "\n",
       "    .dataframe tbody tr th {\n",
       "        vertical-align: top;\n",
       "    }\n",
       "\n",
       "    .dataframe thead th {\n",
       "        text-align: right;\n",
       "    }\n",
       "</style>\n",
       "<table border=\"1\" class=\"dataframe\">\n",
       "  <thead>\n",
       "    <tr style=\"text-align: right;\">\n",
       "      <th></th>\n",
       "      <th>Ranking</th>\n",
       "      <th>Nome</th>\n",
       "      <th>Plataforma</th>\n",
       "      <th>Ano</th>\n",
       "      <th>Gênero</th>\n",
       "      <th>Editora</th>\n",
       "      <th>Vendas America do Norte</th>\n",
       "      <th>Vendas Europa</th>\n",
       "      <th>Vendas Japão</th>\n",
       "      <th>Outras Vendas</th>\n",
       "      <th>Vendas Globais</th>\n",
       "    </tr>\n",
       "  </thead>\n",
       "  <tbody>\n",
       "    <tr>\n",
       "      <th>16593</th>\n",
       "      <td>16596</td>\n",
       "      <td>Woody Woodpecker in Crazy Castle 5</td>\n",
       "      <td>GBA</td>\n",
       "      <td>2002.0</td>\n",
       "      <td>Platform</td>\n",
       "      <td>Kemco</td>\n",
       "      <td>0.01</td>\n",
       "      <td>0.00</td>\n",
       "      <td>0.0</td>\n",
       "      <td>0.0</td>\n",
       "      <td>0.01</td>\n",
       "    </tr>\n",
       "    <tr>\n",
       "      <th>16594</th>\n",
       "      <td>16597</td>\n",
       "      <td>Men in Black II: Alien Escape</td>\n",
       "      <td>GC</td>\n",
       "      <td>2003.0</td>\n",
       "      <td>Shooter</td>\n",
       "      <td>Infogrames</td>\n",
       "      <td>0.01</td>\n",
       "      <td>0.00</td>\n",
       "      <td>0.0</td>\n",
       "      <td>0.0</td>\n",
       "      <td>0.01</td>\n",
       "    </tr>\n",
       "    <tr>\n",
       "      <th>16595</th>\n",
       "      <td>16598</td>\n",
       "      <td>SCORE International Baja 1000: The Official Game</td>\n",
       "      <td>PS2</td>\n",
       "      <td>2008.0</td>\n",
       "      <td>Racing</td>\n",
       "      <td>Activision</td>\n",
       "      <td>0.00</td>\n",
       "      <td>0.00</td>\n",
       "      <td>0.0</td>\n",
       "      <td>0.0</td>\n",
       "      <td>0.01</td>\n",
       "    </tr>\n",
       "    <tr>\n",
       "      <th>16596</th>\n",
       "      <td>16599</td>\n",
       "      <td>Know How 2</td>\n",
       "      <td>DS</td>\n",
       "      <td>2010.0</td>\n",
       "      <td>Puzzle</td>\n",
       "      <td>7G//AMES</td>\n",
       "      <td>0.00</td>\n",
       "      <td>0.01</td>\n",
       "      <td>0.0</td>\n",
       "      <td>0.0</td>\n",
       "      <td>0.01</td>\n",
       "    </tr>\n",
       "    <tr>\n",
       "      <th>16597</th>\n",
       "      <td>16600</td>\n",
       "      <td>Spirits &amp; Spells</td>\n",
       "      <td>GBA</td>\n",
       "      <td>2003.0</td>\n",
       "      <td>Platform</td>\n",
       "      <td>Wanadoo</td>\n",
       "      <td>0.01</td>\n",
       "      <td>0.00</td>\n",
       "      <td>0.0</td>\n",
       "      <td>0.0</td>\n",
       "      <td>0.01</td>\n",
       "    </tr>\n",
       "  </tbody>\n",
       "</table>\n",
       "</div>"
      ],
      "text/plain": [
       "       Ranking                                              Nome Plataforma  \\\n",
       "16593    16596                Woody Woodpecker in Crazy Castle 5        GBA   \n",
       "16594    16597                     Men in Black II: Alien Escape         GC   \n",
       "16595    16598  SCORE International Baja 1000: The Official Game        PS2   \n",
       "16596    16599                                        Know How 2         DS   \n",
       "16597    16600                                  Spirits & Spells        GBA   \n",
       "\n",
       "          Ano    Gênero     Editora  Vendas America do Norte  Vendas Europa  \\\n",
       "16593  2002.0  Platform       Kemco                     0.01           0.00   \n",
       "16594  2003.0   Shooter  Infogrames                     0.01           0.00   \n",
       "16595  2008.0    Racing  Activision                     0.00           0.00   \n",
       "16596  2010.0    Puzzle    7G//AMES                     0.00           0.01   \n",
       "16597  2003.0  Platform     Wanadoo                     0.01           0.00   \n",
       "\n",
       "       Vendas Japão  Outras Vendas  Vendas Globais  \n",
       "16593           0.0            0.0            0.01  \n",
       "16594           0.0            0.0            0.01  \n",
       "16595           0.0            0.0            0.01  \n",
       "16596           0.0            0.0            0.01  \n",
       "16597           0.0            0.0            0.01  "
      ]
     },
     "execution_count": 6,
     "metadata": {},
     "output_type": "execute_result"
    }
   ],
   "source": [
    "dados.tail()"
   ]
  },
  {
   "cell_type": "markdown",
   "metadata": {},
   "source": [
    "**Verifique o tamanho do dataframe, tanto em colunas como em linhas com shape()**"
   ]
  },
  {
   "cell_type": "code",
   "execution_count": 7,
   "metadata": {
    "ExecuteTime": {
     "end_time": "2021-07-27T16:12:41.677818Z",
     "start_time": "2021-07-27T16:12:41.664141Z"
    }
   },
   "outputs": [
    {
     "name": "stdout",
     "output_type": "stream",
     "text": [
      "Número de linhas: 16598\n",
      "Número de colunas: 11\n"
     ]
    }
   ],
   "source": [
    "print('Número de linhas:', dados.shape[0])\n",
    "print('Número de colunas:', dados.shape[1])"
   ]
  },
  {
   "cell_type": "markdown",
   "metadata": {},
   "source": [
    "**Realize uma estatística descritiva dos dados com describe()**"
   ]
  },
  {
   "cell_type": "code",
   "execution_count": 8,
   "metadata": {
    "ExecuteTime": {
     "end_time": "2021-07-27T16:12:41.739081Z",
     "start_time": "2021-07-27T16:12:41.681804Z"
    }
   },
   "outputs": [
    {
     "data": {
      "text/html": [
       "<div>\n",
       "<style scoped>\n",
       "    .dataframe tbody tr th:only-of-type {\n",
       "        vertical-align: middle;\n",
       "    }\n",
       "\n",
       "    .dataframe tbody tr th {\n",
       "        vertical-align: top;\n",
       "    }\n",
       "\n",
       "    .dataframe thead th {\n",
       "        text-align: right;\n",
       "    }\n",
       "</style>\n",
       "<table border=\"1\" class=\"dataframe\">\n",
       "  <thead>\n",
       "    <tr style=\"text-align: right;\">\n",
       "      <th></th>\n",
       "      <th>Ranking</th>\n",
       "      <th>Ano</th>\n",
       "      <th>Vendas America do Norte</th>\n",
       "      <th>Vendas Europa</th>\n",
       "      <th>Vendas Japão</th>\n",
       "      <th>Outras Vendas</th>\n",
       "      <th>Vendas Globais</th>\n",
       "    </tr>\n",
       "  </thead>\n",
       "  <tbody>\n",
       "    <tr>\n",
       "      <th>count</th>\n",
       "      <td>16598.000000</td>\n",
       "      <td>16327.000000</td>\n",
       "      <td>16598.000000</td>\n",
       "      <td>16598.000000</td>\n",
       "      <td>16598.000000</td>\n",
       "      <td>16598.000000</td>\n",
       "      <td>16598.000000</td>\n",
       "    </tr>\n",
       "    <tr>\n",
       "      <th>mean</th>\n",
       "      <td>8300.605254</td>\n",
       "      <td>2006.406443</td>\n",
       "      <td>0.264667</td>\n",
       "      <td>0.146652</td>\n",
       "      <td>0.077782</td>\n",
       "      <td>0.048063</td>\n",
       "      <td>0.537441</td>\n",
       "    </tr>\n",
       "    <tr>\n",
       "      <th>std</th>\n",
       "      <td>4791.853933</td>\n",
       "      <td>5.828981</td>\n",
       "      <td>0.816683</td>\n",
       "      <td>0.505351</td>\n",
       "      <td>0.309291</td>\n",
       "      <td>0.188588</td>\n",
       "      <td>1.555028</td>\n",
       "    </tr>\n",
       "    <tr>\n",
       "      <th>min</th>\n",
       "      <td>1.000000</td>\n",
       "      <td>1980.000000</td>\n",
       "      <td>0.000000</td>\n",
       "      <td>0.000000</td>\n",
       "      <td>0.000000</td>\n",
       "      <td>0.000000</td>\n",
       "      <td>0.010000</td>\n",
       "    </tr>\n",
       "    <tr>\n",
       "      <th>25%</th>\n",
       "      <td>4151.250000</td>\n",
       "      <td>2003.000000</td>\n",
       "      <td>0.000000</td>\n",
       "      <td>0.000000</td>\n",
       "      <td>0.000000</td>\n",
       "      <td>0.000000</td>\n",
       "      <td>0.060000</td>\n",
       "    </tr>\n",
       "    <tr>\n",
       "      <th>50%</th>\n",
       "      <td>8300.500000</td>\n",
       "      <td>2007.000000</td>\n",
       "      <td>0.080000</td>\n",
       "      <td>0.020000</td>\n",
       "      <td>0.000000</td>\n",
       "      <td>0.010000</td>\n",
       "      <td>0.170000</td>\n",
       "    </tr>\n",
       "    <tr>\n",
       "      <th>75%</th>\n",
       "      <td>12449.750000</td>\n",
       "      <td>2010.000000</td>\n",
       "      <td>0.240000</td>\n",
       "      <td>0.110000</td>\n",
       "      <td>0.040000</td>\n",
       "      <td>0.040000</td>\n",
       "      <td>0.470000</td>\n",
       "    </tr>\n",
       "    <tr>\n",
       "      <th>max</th>\n",
       "      <td>16600.000000</td>\n",
       "      <td>2020.000000</td>\n",
       "      <td>41.490000</td>\n",
       "      <td>29.020000</td>\n",
       "      <td>10.220000</td>\n",
       "      <td>10.570000</td>\n",
       "      <td>82.740000</td>\n",
       "    </tr>\n",
       "  </tbody>\n",
       "</table>\n",
       "</div>"
      ],
      "text/plain": [
       "            Ranking           Ano  Vendas America do Norte  Vendas Europa  \\\n",
       "count  16598.000000  16327.000000             16598.000000   16598.000000   \n",
       "mean    8300.605254   2006.406443                 0.264667       0.146652   \n",
       "std     4791.853933      5.828981                 0.816683       0.505351   \n",
       "min        1.000000   1980.000000                 0.000000       0.000000   \n",
       "25%     4151.250000   2003.000000                 0.000000       0.000000   \n",
       "50%     8300.500000   2007.000000                 0.080000       0.020000   \n",
       "75%    12449.750000   2010.000000                 0.240000       0.110000   \n",
       "max    16600.000000   2020.000000                41.490000      29.020000   \n",
       "\n",
       "       Vendas Japão  Outras Vendas  Vendas Globais  \n",
       "count  16598.000000   16598.000000    16598.000000  \n",
       "mean       0.077782       0.048063        0.537441  \n",
       "std        0.309291       0.188588        1.555028  \n",
       "min        0.000000       0.000000        0.010000  \n",
       "25%        0.000000       0.000000        0.060000  \n",
       "50%        0.000000       0.010000        0.170000  \n",
       "75%        0.040000       0.040000        0.470000  \n",
       "max       10.220000      10.570000       82.740000  "
      ]
     },
     "execution_count": 8,
     "metadata": {},
     "output_type": "execute_result"
    }
   ],
   "source": [
    "dados.describe()"
   ]
  },
  {
   "cell_type": "markdown",
   "metadata": {},
   "source": [
    "**Verifique os tipos das variáveis presentes no dataset**"
   ]
  },
  {
   "cell_type": "code",
   "execution_count": 9,
   "metadata": {
    "ExecuteTime": {
     "end_time": "2021-07-27T16:12:41.755032Z",
     "start_time": "2021-07-27T16:12:41.742074Z"
    }
   },
   "outputs": [
    {
     "data": {
      "text/plain": [
       "Ranking                      int64\n",
       "Nome                        object\n",
       "Plataforma                  object\n",
       "Ano                        float64\n",
       "Gênero                      object\n",
       "Editora                     object\n",
       "Vendas America do Norte    float64\n",
       "Vendas Europa              float64\n",
       "Vendas Japão               float64\n",
       "Outras Vendas              float64\n",
       "Vendas Globais             float64\n",
       "dtype: object"
      ]
     },
     "execution_count": 9,
     "metadata": {},
     "output_type": "execute_result"
    }
   ],
   "source": [
    "dados.dtypes"
   ]
  },
  {
   "cell_type": "markdown",
   "metadata": {},
   "source": [
    "**Perceba que a variável Ano está como float64, dessa forma terá que converter para datetime**"
   ]
  },
  {
   "cell_type": "code",
   "execution_count": 10,
   "metadata": {
    "ExecuteTime": {
     "end_time": "2021-07-27T16:12:41.771029Z",
     "start_time": "2021-07-27T16:12:41.757927Z"
    }
   },
   "outputs": [],
   "source": [
    "dados['Ano'] = pd.to_datetime(dados['Ano'], format = '%Y') "
   ]
  },
  {
   "cell_type": "code",
   "execution_count": 11,
   "metadata": {},
   "outputs": [],
   "source": [
    "# Convertendo os números float em números inteiros\n",
    "dados['Vendas America do Norte'] = dados['Vendas America do Norte'].astype(np.int64)\n",
    "dados['Vendas Europa'] = dados['Vendas Europa'].astype(np.int64)\n",
    "dados['Vendas Japão'] = dados['Vendas Japão'].astype(np.int64)\n",
    "dados['Outras Vendas'] = dados['Outras Vendas'].astype(np.int64)\n",
    "dados['Vendas Globais'] = dados['Vendas Globais'].astype(np.int64)"
   ]
  },
  {
   "cell_type": "code",
   "execution_count": 12,
   "metadata": {},
   "outputs": [
    {
     "data": {
      "text/html": [
       "<div>\n",
       "<style scoped>\n",
       "    .dataframe tbody tr th:only-of-type {\n",
       "        vertical-align: middle;\n",
       "    }\n",
       "\n",
       "    .dataframe tbody tr th {\n",
       "        vertical-align: top;\n",
       "    }\n",
       "\n",
       "    .dataframe thead th {\n",
       "        text-align: right;\n",
       "    }\n",
       "</style>\n",
       "<table border=\"1\" class=\"dataframe\">\n",
       "  <thead>\n",
       "    <tr style=\"text-align: right;\">\n",
       "      <th></th>\n",
       "      <th>Ranking</th>\n",
       "      <th>Nome</th>\n",
       "      <th>Plataforma</th>\n",
       "      <th>Ano</th>\n",
       "      <th>Gênero</th>\n",
       "      <th>Editora</th>\n",
       "      <th>Vendas America do Norte</th>\n",
       "      <th>Vendas Europa</th>\n",
       "      <th>Vendas Japão</th>\n",
       "      <th>Outras Vendas</th>\n",
       "      <th>Vendas Globais</th>\n",
       "    </tr>\n",
       "  </thead>\n",
       "  <tbody>\n",
       "    <tr>\n",
       "      <th>0</th>\n",
       "      <td>1</td>\n",
       "      <td>Wii Sports</td>\n",
       "      <td>Wii</td>\n",
       "      <td>2006-01-01</td>\n",
       "      <td>Sports</td>\n",
       "      <td>Nintendo</td>\n",
       "      <td>41</td>\n",
       "      <td>29</td>\n",
       "      <td>3</td>\n",
       "      <td>8</td>\n",
       "      <td>82</td>\n",
       "    </tr>\n",
       "    <tr>\n",
       "      <th>1</th>\n",
       "      <td>2</td>\n",
       "      <td>Super Mario Bros.</td>\n",
       "      <td>NES</td>\n",
       "      <td>1985-01-01</td>\n",
       "      <td>Platform</td>\n",
       "      <td>Nintendo</td>\n",
       "      <td>29</td>\n",
       "      <td>3</td>\n",
       "      <td>6</td>\n",
       "      <td>0</td>\n",
       "      <td>40</td>\n",
       "    </tr>\n",
       "    <tr>\n",
       "      <th>2</th>\n",
       "      <td>3</td>\n",
       "      <td>Mario Kart Wii</td>\n",
       "      <td>Wii</td>\n",
       "      <td>2008-01-01</td>\n",
       "      <td>Racing</td>\n",
       "      <td>Nintendo</td>\n",
       "      <td>15</td>\n",
       "      <td>12</td>\n",
       "      <td>3</td>\n",
       "      <td>3</td>\n",
       "      <td>35</td>\n",
       "    </tr>\n",
       "    <tr>\n",
       "      <th>3</th>\n",
       "      <td>4</td>\n",
       "      <td>Wii Sports Resort</td>\n",
       "      <td>Wii</td>\n",
       "      <td>2009-01-01</td>\n",
       "      <td>Sports</td>\n",
       "      <td>Nintendo</td>\n",
       "      <td>15</td>\n",
       "      <td>11</td>\n",
       "      <td>3</td>\n",
       "      <td>2</td>\n",
       "      <td>33</td>\n",
       "    </tr>\n",
       "    <tr>\n",
       "      <th>4</th>\n",
       "      <td>5</td>\n",
       "      <td>Pokemon Red/Pokemon Blue</td>\n",
       "      <td>GB</td>\n",
       "      <td>1996-01-01</td>\n",
       "      <td>Role-Playing</td>\n",
       "      <td>Nintendo</td>\n",
       "      <td>11</td>\n",
       "      <td>8</td>\n",
       "      <td>10</td>\n",
       "      <td>1</td>\n",
       "      <td>31</td>\n",
       "    </tr>\n",
       "  </tbody>\n",
       "</table>\n",
       "</div>"
      ],
      "text/plain": [
       "   Ranking                      Nome Plataforma        Ano        Gênero  \\\n",
       "0        1                Wii Sports        Wii 2006-01-01        Sports   \n",
       "1        2         Super Mario Bros.        NES 1985-01-01      Platform   \n",
       "2        3            Mario Kart Wii        Wii 2008-01-01        Racing   \n",
       "3        4         Wii Sports Resort        Wii 2009-01-01        Sports   \n",
       "4        5  Pokemon Red/Pokemon Blue         GB 1996-01-01  Role-Playing   \n",
       "\n",
       "    Editora  Vendas America do Norte  Vendas Europa  Vendas Japão  \\\n",
       "0  Nintendo                       41             29             3   \n",
       "1  Nintendo                       29              3             6   \n",
       "2  Nintendo                       15             12             3   \n",
       "3  Nintendo                       15             11             3   \n",
       "4  Nintendo                       11              8            10   \n",
       "\n",
       "   Outras Vendas  Vendas Globais  \n",
       "0              8              82  \n",
       "1              0              40  \n",
       "2              3              35  \n",
       "3              2              33  \n",
       "4              1              31  "
      ]
     },
     "execution_count": 12,
     "metadata": {},
     "output_type": "execute_result"
    }
   ],
   "source": [
    "dados.head()"
   ]
  },
  {
   "cell_type": "markdown",
   "metadata": {},
   "source": [
    "**Faça uma validação se realmente o tipo da coluna Ano foi convertido**"
   ]
  },
  {
   "cell_type": "code",
   "execution_count": 13,
   "metadata": {
    "ExecuteTime": {
     "end_time": "2021-07-27T16:12:41.786851Z",
     "start_time": "2021-07-27T16:12:41.773889Z"
    }
   },
   "outputs": [
    {
     "data": {
      "text/plain": [
       "Ranking                             int64\n",
       "Nome                               object\n",
       "Plataforma                         object\n",
       "Ano                        datetime64[ns]\n",
       "Gênero                             object\n",
       "Editora                            object\n",
       "Vendas America do Norte             int64\n",
       "Vendas Europa                       int64\n",
       "Vendas Japão                        int64\n",
       "Outras Vendas                       int64\n",
       "Vendas Globais                      int64\n",
       "dtype: object"
      ]
     },
     "execution_count": 13,
     "metadata": {},
     "output_type": "execute_result"
    }
   ],
   "source": [
    "dados.dtypes"
   ]
  },
  {
   "cell_type": "markdown",
   "metadata": {},
   "source": [
    "**Verifique se no dataframe existe valores NaN e some esses valores faltantes**"
   ]
  },
  {
   "cell_type": "code",
   "execution_count": 14,
   "metadata": {
    "ExecuteTime": {
     "end_time": "2021-07-27T16:12:41.818854Z",
     "start_time": "2021-07-27T16:12:41.788891Z"
    }
   },
   "outputs": [
    {
     "data": {
      "text/plain": [
       "Ranking                      0\n",
       "Nome                         0\n",
       "Plataforma                   0\n",
       "Ano                        271\n",
       "Gênero                       0\n",
       "Editora                     58\n",
       "Vendas America do Norte      0\n",
       "Vendas Europa                0\n",
       "Vendas Japão                 0\n",
       "Outras Vendas                0\n",
       "Vendas Globais               0\n",
       "dtype: int64"
      ]
     },
     "execution_count": 14,
     "metadata": {},
     "output_type": "execute_result"
    }
   ],
   "source": [
    "dados.isna().sum()"
   ]
  },
  {
   "cell_type": "markdown",
   "metadata": {
    "ExecuteTime": {
     "end_time": "2021-07-27T01:45:11.090731Z",
     "start_time": "2021-07-27T01:45:11.071993Z"
    }
   },
   "source": [
    "**Remova os valores NaN do dataframe**"
   ]
  },
  {
   "cell_type": "code",
   "execution_count": 15,
   "metadata": {
    "ExecuteTime": {
     "end_time": "2021-07-27T16:12:41.865247Z",
     "start_time": "2021-07-27T16:12:41.820765Z"
    }
   },
   "outputs": [
    {
     "data": {
      "text/html": [
       "<div>\n",
       "<style scoped>\n",
       "    .dataframe tbody tr th:only-of-type {\n",
       "        vertical-align: middle;\n",
       "    }\n",
       "\n",
       "    .dataframe tbody tr th {\n",
       "        vertical-align: top;\n",
       "    }\n",
       "\n",
       "    .dataframe thead th {\n",
       "        text-align: right;\n",
       "    }\n",
       "</style>\n",
       "<table border=\"1\" class=\"dataframe\">\n",
       "  <thead>\n",
       "    <tr style=\"text-align: right;\">\n",
       "      <th></th>\n",
       "      <th>Ranking</th>\n",
       "      <th>Nome</th>\n",
       "      <th>Plataforma</th>\n",
       "      <th>Ano</th>\n",
       "      <th>Gênero</th>\n",
       "      <th>Editora</th>\n",
       "      <th>Vendas America do Norte</th>\n",
       "      <th>Vendas Europa</th>\n",
       "      <th>Vendas Japão</th>\n",
       "      <th>Outras Vendas</th>\n",
       "      <th>Vendas Globais</th>\n",
       "    </tr>\n",
       "  </thead>\n",
       "  <tbody>\n",
       "    <tr>\n",
       "      <th>0</th>\n",
       "      <td>1</td>\n",
       "      <td>Wii Sports</td>\n",
       "      <td>Wii</td>\n",
       "      <td>2006-01-01</td>\n",
       "      <td>Sports</td>\n",
       "      <td>Nintendo</td>\n",
       "      <td>41</td>\n",
       "      <td>29</td>\n",
       "      <td>3</td>\n",
       "      <td>8</td>\n",
       "      <td>82</td>\n",
       "    </tr>\n",
       "    <tr>\n",
       "      <th>1</th>\n",
       "      <td>2</td>\n",
       "      <td>Super Mario Bros.</td>\n",
       "      <td>NES</td>\n",
       "      <td>1985-01-01</td>\n",
       "      <td>Platform</td>\n",
       "      <td>Nintendo</td>\n",
       "      <td>29</td>\n",
       "      <td>3</td>\n",
       "      <td>6</td>\n",
       "      <td>0</td>\n",
       "      <td>40</td>\n",
       "    </tr>\n",
       "    <tr>\n",
       "      <th>2</th>\n",
       "      <td>3</td>\n",
       "      <td>Mario Kart Wii</td>\n",
       "      <td>Wii</td>\n",
       "      <td>2008-01-01</td>\n",
       "      <td>Racing</td>\n",
       "      <td>Nintendo</td>\n",
       "      <td>15</td>\n",
       "      <td>12</td>\n",
       "      <td>3</td>\n",
       "      <td>3</td>\n",
       "      <td>35</td>\n",
       "    </tr>\n",
       "    <tr>\n",
       "      <th>3</th>\n",
       "      <td>4</td>\n",
       "      <td>Wii Sports Resort</td>\n",
       "      <td>Wii</td>\n",
       "      <td>2009-01-01</td>\n",
       "      <td>Sports</td>\n",
       "      <td>Nintendo</td>\n",
       "      <td>15</td>\n",
       "      <td>11</td>\n",
       "      <td>3</td>\n",
       "      <td>2</td>\n",
       "      <td>33</td>\n",
       "    </tr>\n",
       "    <tr>\n",
       "      <th>4</th>\n",
       "      <td>5</td>\n",
       "      <td>Pokemon Red/Pokemon Blue</td>\n",
       "      <td>GB</td>\n",
       "      <td>1996-01-01</td>\n",
       "      <td>Role-Playing</td>\n",
       "      <td>Nintendo</td>\n",
       "      <td>11</td>\n",
       "      <td>8</td>\n",
       "      <td>10</td>\n",
       "      <td>1</td>\n",
       "      <td>31</td>\n",
       "    </tr>\n",
       "    <tr>\n",
       "      <th>...</th>\n",
       "      <td>...</td>\n",
       "      <td>...</td>\n",
       "      <td>...</td>\n",
       "      <td>...</td>\n",
       "      <td>...</td>\n",
       "      <td>...</td>\n",
       "      <td>...</td>\n",
       "      <td>...</td>\n",
       "      <td>...</td>\n",
       "      <td>...</td>\n",
       "      <td>...</td>\n",
       "    </tr>\n",
       "    <tr>\n",
       "      <th>16593</th>\n",
       "      <td>16596</td>\n",
       "      <td>Woody Woodpecker in Crazy Castle 5</td>\n",
       "      <td>GBA</td>\n",
       "      <td>2002-01-01</td>\n",
       "      <td>Platform</td>\n",
       "      <td>Kemco</td>\n",
       "      <td>0</td>\n",
       "      <td>0</td>\n",
       "      <td>0</td>\n",
       "      <td>0</td>\n",
       "      <td>0</td>\n",
       "    </tr>\n",
       "    <tr>\n",
       "      <th>16594</th>\n",
       "      <td>16597</td>\n",
       "      <td>Men in Black II: Alien Escape</td>\n",
       "      <td>GC</td>\n",
       "      <td>2003-01-01</td>\n",
       "      <td>Shooter</td>\n",
       "      <td>Infogrames</td>\n",
       "      <td>0</td>\n",
       "      <td>0</td>\n",
       "      <td>0</td>\n",
       "      <td>0</td>\n",
       "      <td>0</td>\n",
       "    </tr>\n",
       "    <tr>\n",
       "      <th>16595</th>\n",
       "      <td>16598</td>\n",
       "      <td>SCORE International Baja 1000: The Official Game</td>\n",
       "      <td>PS2</td>\n",
       "      <td>2008-01-01</td>\n",
       "      <td>Racing</td>\n",
       "      <td>Activision</td>\n",
       "      <td>0</td>\n",
       "      <td>0</td>\n",
       "      <td>0</td>\n",
       "      <td>0</td>\n",
       "      <td>0</td>\n",
       "    </tr>\n",
       "    <tr>\n",
       "      <th>16596</th>\n",
       "      <td>16599</td>\n",
       "      <td>Know How 2</td>\n",
       "      <td>DS</td>\n",
       "      <td>2010-01-01</td>\n",
       "      <td>Puzzle</td>\n",
       "      <td>7G//AMES</td>\n",
       "      <td>0</td>\n",
       "      <td>0</td>\n",
       "      <td>0</td>\n",
       "      <td>0</td>\n",
       "      <td>0</td>\n",
       "    </tr>\n",
       "    <tr>\n",
       "      <th>16597</th>\n",
       "      <td>16600</td>\n",
       "      <td>Spirits &amp; Spells</td>\n",
       "      <td>GBA</td>\n",
       "      <td>2003-01-01</td>\n",
       "      <td>Platform</td>\n",
       "      <td>Wanadoo</td>\n",
       "      <td>0</td>\n",
       "      <td>0</td>\n",
       "      <td>0</td>\n",
       "      <td>0</td>\n",
       "      <td>0</td>\n",
       "    </tr>\n",
       "  </tbody>\n",
       "</table>\n",
       "<p>16291 rows × 11 columns</p>\n",
       "</div>"
      ],
      "text/plain": [
       "       Ranking                                              Nome Plataforma  \\\n",
       "0            1                                        Wii Sports        Wii   \n",
       "1            2                                 Super Mario Bros.        NES   \n",
       "2            3                                    Mario Kart Wii        Wii   \n",
       "3            4                                 Wii Sports Resort        Wii   \n",
       "4            5                          Pokemon Red/Pokemon Blue         GB   \n",
       "...        ...                                               ...        ...   \n",
       "16593    16596                Woody Woodpecker in Crazy Castle 5        GBA   \n",
       "16594    16597                     Men in Black II: Alien Escape         GC   \n",
       "16595    16598  SCORE International Baja 1000: The Official Game        PS2   \n",
       "16596    16599                                        Know How 2         DS   \n",
       "16597    16600                                  Spirits & Spells        GBA   \n",
       "\n",
       "             Ano        Gênero     Editora  Vendas America do Norte  \\\n",
       "0     2006-01-01        Sports    Nintendo                       41   \n",
       "1     1985-01-01      Platform    Nintendo                       29   \n",
       "2     2008-01-01        Racing    Nintendo                       15   \n",
       "3     2009-01-01        Sports    Nintendo                       15   \n",
       "4     1996-01-01  Role-Playing    Nintendo                       11   \n",
       "...          ...           ...         ...                      ...   \n",
       "16593 2002-01-01      Platform       Kemco                        0   \n",
       "16594 2003-01-01       Shooter  Infogrames                        0   \n",
       "16595 2008-01-01        Racing  Activision                        0   \n",
       "16596 2010-01-01        Puzzle    7G//AMES                        0   \n",
       "16597 2003-01-01      Platform     Wanadoo                        0   \n",
       "\n",
       "       Vendas Europa  Vendas Japão  Outras Vendas  Vendas Globais  \n",
       "0                 29             3              8              82  \n",
       "1                  3             6              0              40  \n",
       "2                 12             3              3              35  \n",
       "3                 11             3              2              33  \n",
       "4                  8            10              1              31  \n",
       "...              ...           ...            ...             ...  \n",
       "16593              0             0              0               0  \n",
       "16594              0             0              0               0  \n",
       "16595              0             0              0               0  \n",
       "16596              0             0              0               0  \n",
       "16597              0             0              0               0  \n",
       "\n",
       "[16291 rows x 11 columns]"
      ]
     },
     "execution_count": 15,
     "metadata": {},
     "output_type": "execute_result"
    }
   ],
   "source": [
    "# O comando irá apagar todas as linhas que possuirem valores nulos\n",
    "dados.dropna()"
   ]
  },
  {
   "cell_type": "markdown",
   "metadata": {},
   "source": [
    "## Exploratory Data Analysis"
   ]
  },
  {
   "cell_type": "markdown",
   "metadata": {},
   "source": [
    "**Crie uma nova coluna com nome Status no dataframe, onde a mesma obedeça a eguinte regra: se a coluna nome ter o jogo chamado 'Wii Sports Resort' é da linha Premium, e se o nome do jogo for 'Wii Sports' então é da linha 'Gold', se não for nenhum desses nomes, então é da linha 'Silver' . Após a condição lógica, insira a nova coluna chamada Status no dataframe com o método Apply**"
   ]
  },
  {
   "cell_type": "code",
   "execution_count": 16,
   "metadata": {
    "ExecuteTime": {
     "end_time": "2021-07-27T16:12:42.244872Z",
     "start_time": "2021-07-27T16:12:41.868232Z"
    }
   },
   "outputs": [],
   "source": [
    "# Criando uma função com a regra de negócio\n",
    "def status(linha):\n",
    "    if linha['Nome'] == 'Wii Sports Resort':\n",
    "        return 'Premium'\n",
    "    elif linha['Nome'] == 'Wii Sports':\n",
    "        return 'Gold'\n",
    "    else:\n",
    "        return 'Silver'\n",
    "\n",
    "# Criando uma nova coluna, aplicando a função e inserindo no dataframe\n",
    "dados['Status'] = dados.apply(status, axis=1)"
   ]
  },
  {
   "cell_type": "code",
   "execution_count": 17,
   "metadata": {
    "ExecuteTime": {
     "end_time": "2021-07-27T16:12:42.306999Z",
     "start_time": "2021-07-27T16:12:42.249863Z"
    }
   },
   "outputs": [
    {
     "data": {
      "text/html": [
       "<div>\n",
       "<style scoped>\n",
       "    .dataframe tbody tr th:only-of-type {\n",
       "        vertical-align: middle;\n",
       "    }\n",
       "\n",
       "    .dataframe tbody tr th {\n",
       "        vertical-align: top;\n",
       "    }\n",
       "\n",
       "    .dataframe thead th {\n",
       "        text-align: right;\n",
       "    }\n",
       "</style>\n",
       "<table border=\"1\" class=\"dataframe\">\n",
       "  <thead>\n",
       "    <tr style=\"text-align: right;\">\n",
       "      <th></th>\n",
       "      <th>Ranking</th>\n",
       "      <th>Nome</th>\n",
       "      <th>Plataforma</th>\n",
       "      <th>Ano</th>\n",
       "      <th>Gênero</th>\n",
       "      <th>Editora</th>\n",
       "      <th>Vendas America do Norte</th>\n",
       "      <th>Vendas Europa</th>\n",
       "      <th>Vendas Japão</th>\n",
       "      <th>Outras Vendas</th>\n",
       "      <th>Vendas Globais</th>\n",
       "      <th>Status</th>\n",
       "    </tr>\n",
       "  </thead>\n",
       "  <tbody>\n",
       "    <tr>\n",
       "      <th>0</th>\n",
       "      <td>1</td>\n",
       "      <td>Wii Sports</td>\n",
       "      <td>Wii</td>\n",
       "      <td>2006-01-01</td>\n",
       "      <td>Sports</td>\n",
       "      <td>Nintendo</td>\n",
       "      <td>41</td>\n",
       "      <td>29</td>\n",
       "      <td>3</td>\n",
       "      <td>8</td>\n",
       "      <td>82</td>\n",
       "      <td>Gold</td>\n",
       "    </tr>\n",
       "    <tr>\n",
       "      <th>1</th>\n",
       "      <td>2</td>\n",
       "      <td>Super Mario Bros.</td>\n",
       "      <td>NES</td>\n",
       "      <td>1985-01-01</td>\n",
       "      <td>Platform</td>\n",
       "      <td>Nintendo</td>\n",
       "      <td>29</td>\n",
       "      <td>3</td>\n",
       "      <td>6</td>\n",
       "      <td>0</td>\n",
       "      <td>40</td>\n",
       "      <td>Silver</td>\n",
       "    </tr>\n",
       "    <tr>\n",
       "      <th>2</th>\n",
       "      <td>3</td>\n",
       "      <td>Mario Kart Wii</td>\n",
       "      <td>Wii</td>\n",
       "      <td>2008-01-01</td>\n",
       "      <td>Racing</td>\n",
       "      <td>Nintendo</td>\n",
       "      <td>15</td>\n",
       "      <td>12</td>\n",
       "      <td>3</td>\n",
       "      <td>3</td>\n",
       "      <td>35</td>\n",
       "      <td>Silver</td>\n",
       "    </tr>\n",
       "    <tr>\n",
       "      <th>3</th>\n",
       "      <td>4</td>\n",
       "      <td>Wii Sports Resort</td>\n",
       "      <td>Wii</td>\n",
       "      <td>2009-01-01</td>\n",
       "      <td>Sports</td>\n",
       "      <td>Nintendo</td>\n",
       "      <td>15</td>\n",
       "      <td>11</td>\n",
       "      <td>3</td>\n",
       "      <td>2</td>\n",
       "      <td>33</td>\n",
       "      <td>Premium</td>\n",
       "    </tr>\n",
       "    <tr>\n",
       "      <th>4</th>\n",
       "      <td>5</td>\n",
       "      <td>Pokemon Red/Pokemon Blue</td>\n",
       "      <td>GB</td>\n",
       "      <td>1996-01-01</td>\n",
       "      <td>Role-Playing</td>\n",
       "      <td>Nintendo</td>\n",
       "      <td>11</td>\n",
       "      <td>8</td>\n",
       "      <td>10</td>\n",
       "      <td>1</td>\n",
       "      <td>31</td>\n",
       "      <td>Silver</td>\n",
       "    </tr>\n",
       "  </tbody>\n",
       "</table>\n",
       "</div>"
      ],
      "text/plain": [
       "   Ranking                      Nome Plataforma        Ano        Gênero  \\\n",
       "0        1                Wii Sports        Wii 2006-01-01        Sports   \n",
       "1        2         Super Mario Bros.        NES 1985-01-01      Platform   \n",
       "2        3            Mario Kart Wii        Wii 2008-01-01        Racing   \n",
       "3        4         Wii Sports Resort        Wii 2009-01-01        Sports   \n",
       "4        5  Pokemon Red/Pokemon Blue         GB 1996-01-01  Role-Playing   \n",
       "\n",
       "    Editora  Vendas America do Norte  Vendas Europa  Vendas Japão  \\\n",
       "0  Nintendo                       41             29             3   \n",
       "1  Nintendo                       29              3             6   \n",
       "2  Nintendo                       15             12             3   \n",
       "3  Nintendo                       15             11             3   \n",
       "4  Nintendo                       11              8            10   \n",
       "\n",
       "   Outras Vendas  Vendas Globais   Status  \n",
       "0              8              82     Gold  \n",
       "1              0              40   Silver  \n",
       "2              3              35   Silver  \n",
       "3              2              33  Premium  \n",
       "4              1              31   Silver  "
      ]
     },
     "execution_count": 17,
     "metadata": {},
     "output_type": "execute_result"
    }
   ],
   "source": [
    "dados.head()"
   ]
  },
  {
   "cell_type": "markdown",
   "metadata": {},
   "source": [
    "**Quais são as top 5 Editoras mais comuns no conjunto de dados?**"
   ]
  },
  {
   "cell_type": "code",
   "execution_count": 18,
   "metadata": {
    "ExecuteTime": {
     "end_time": "2021-07-27T16:12:42.337832Z",
     "start_time": "2021-07-27T16:12:42.310941Z"
    }
   },
   "outputs": [
    {
     "data": {
      "text/plain": [
       "Electronic Arts                 1351\n",
       "Activision                       975\n",
       "Namco Bandai Games               932\n",
       "Ubisoft                          921\n",
       "Konami Digital Entertainment     832\n",
       "Name: Editora, dtype: int64"
      ]
     },
     "execution_count": 18,
     "metadata": {},
     "output_type": "execute_result"
    }
   ],
   "source": [
    "# Contar quantas vezes aparece no data frame\n",
    "dados['Editora'].value_counts().head(5)"
   ]
  },
  {
   "cell_type": "markdown",
   "metadata": {},
   "source": [
    "**Quais são as top 5 principais Plataformas no conjunto de dados**"
   ]
  },
  {
   "cell_type": "code",
   "execution_count": 19,
   "metadata": {
    "ExecuteTime": {
     "end_time": "2021-07-27T16:12:42.352794Z",
     "start_time": "2021-07-27T16:12:42.339827Z"
    }
   },
   "outputs": [
    {
     "data": {
      "text/plain": [
       "DS      2163\n",
       "PS2     2161\n",
       "PS3     1329\n",
       "Wii     1325\n",
       "X360    1265\n",
       "Name: Plataforma, dtype: int64"
      ]
     },
     "execution_count": 19,
     "metadata": {},
     "output_type": "execute_result"
    }
   ],
   "source": [
    "dados['Plataforma'].value_counts().head(5)"
   ]
  },
  {
   "cell_type": "markdown",
   "metadata": {},
   "source": [
    "**Quais os valores unicos da Variavel Gênero**"
   ]
  },
  {
   "cell_type": "code",
   "execution_count": 20,
   "metadata": {
    "ExecuteTime": {
     "end_time": "2021-07-27T16:12:42.368606Z",
     "start_time": "2021-07-27T16:12:42.355563Z"
    }
   },
   "outputs": [
    {
     "data": {
      "text/plain": [
       "array(['Sports', 'Platform', 'Racing', 'Role-Playing', 'Puzzle', 'Misc',\n",
       "       'Shooter', 'Simulation', 'Action', 'Fighting', 'Adventure',\n",
       "       'Strategy'], dtype=object)"
      ]
     },
     "execution_count": 20,
     "metadata": {},
     "output_type": "execute_result"
    }
   ],
   "source": [
    "dados['Gênero'].unique()"
   ]
  },
  {
   "cell_type": "markdown",
   "metadata": {},
   "source": [
    "**Qual a media de Vendas na Europa**"
   ]
  },
  {
   "cell_type": "code",
   "execution_count": 21,
   "metadata": {
    "ExecuteTime": {
     "end_time": "2021-07-27T16:12:42.384485Z",
     "start_time": "2021-07-27T16:12:42.370521Z"
    }
   },
   "outputs": [
    {
     "data": {
      "text/plain": [
       "0.05042776238100976"
      ]
     },
     "execution_count": 21,
     "metadata": {},
     "output_type": "execute_result"
    }
   ],
   "source": [
    "dados['Vendas Europa'].mean()"
   ]
  },
  {
   "cell_type": "markdown",
   "metadata": {},
   "source": [
    "**Qual a media de Vendas Globais**"
   ]
  },
  {
   "cell_type": "code",
   "execution_count": 22,
   "metadata": {
    "ExecuteTime": {
     "end_time": "2021-07-27T16:12:42.400178Z",
     "start_time": "2021-07-27T16:12:42.388564Z"
    }
   },
   "outputs": [
    {
     "data": {
      "text/plain": [
       "0.2940113266658634"
      ]
     },
     "execution_count": 22,
     "metadata": {},
     "output_type": "execute_result"
    }
   ],
   "source": [
    "dados['Vendas Globais'].mean()"
   ]
  },
  {
   "cell_type": "markdown",
   "metadata": {
    "ExecuteTime": {
     "end_time": "2021-07-27T02:21:12.846381Z",
     "start_time": "2021-07-27T02:21:12.841621Z"
    }
   },
   "source": [
    "**Quais foram as Top 15 Plataformas que mais venderam no dataset**"
   ]
  },
  {
   "cell_type": "code",
   "execution_count": 23,
   "metadata": {
    "ExecuteTime": {
     "end_time": "2021-07-27T16:12:42.431394Z",
     "start_time": "2021-07-27T16:12:42.402956Z"
    }
   },
   "outputs": [
    {
     "data": {
      "text/plain": [
       "Plataforma\n",
       "PS2     645\n",
       "X360    590\n",
       "Wii     574\n",
       "PS3     544\n",
       "DS      423\n",
       "PS      384\n",
       "GB      220\n",
       "NES     211\n",
       "PS4     184\n",
       "3DS     142\n",
       "GBA     132\n",
       "PC      126\n",
       "SNES    125\n",
       "N64     120\n",
       "PSP      97\n",
       "Name: Vendas Globais, dtype: int64"
      ]
     },
     "execution_count": 23,
     "metadata": {},
     "output_type": "execute_result"
    }
   ],
   "source": [
    "dados.groupby('Plataforma')['Vendas Globais'].sum().sort_values(ascending=False).head(15)"
   ]
  },
  {
   "cell_type": "markdown",
   "metadata": {
    "ExecuteTime": {
     "end_time": "2021-07-27T02:35:11.806997Z",
     "start_time": "2021-07-27T02:35:11.793786Z"
    }
   },
   "source": [
    "**Faça um filtro no dataset, onde traga somente a Editora de nome 'Nintendo' e o Nome do Jogo 'Super Mario bros.'**"
   ]
  },
  {
   "cell_type": "code",
   "execution_count": 24,
   "metadata": {
    "ExecuteTime": {
     "end_time": "2021-07-27T16:12:42.478107Z",
     "start_time": "2021-07-27T16:12:42.434380Z"
    }
   },
   "outputs": [
    {
     "data": {
      "text/html": [
       "<div>\n",
       "<style scoped>\n",
       "    .dataframe tbody tr th:only-of-type {\n",
       "        vertical-align: middle;\n",
       "    }\n",
       "\n",
       "    .dataframe tbody tr th {\n",
       "        vertical-align: top;\n",
       "    }\n",
       "\n",
       "    .dataframe thead th {\n",
       "        text-align: right;\n",
       "    }\n",
       "</style>\n",
       "<table border=\"1\" class=\"dataframe\">\n",
       "  <thead>\n",
       "    <tr style=\"text-align: right;\">\n",
       "      <th></th>\n",
       "      <th>index</th>\n",
       "      <th>Ranking</th>\n",
       "      <th>Nome</th>\n",
       "      <th>Plataforma</th>\n",
       "      <th>Ano</th>\n",
       "      <th>Gênero</th>\n",
       "      <th>Editora</th>\n",
       "      <th>Vendas America do Norte</th>\n",
       "      <th>Vendas Europa</th>\n",
       "      <th>Vendas Japão</th>\n",
       "      <th>Outras Vendas</th>\n",
       "      <th>Vendas Globais</th>\n",
       "      <th>Status</th>\n",
       "    </tr>\n",
       "  </thead>\n",
       "  <tbody>\n",
       "    <tr>\n",
       "      <th>0</th>\n",
       "      <td>1</td>\n",
       "      <td>2</td>\n",
       "      <td>Super Mario Bros.</td>\n",
       "      <td>NES</td>\n",
       "      <td>1985-01-01</td>\n",
       "      <td>Platform</td>\n",
       "      <td>Nintendo</td>\n",
       "      <td>29</td>\n",
       "      <td>3</td>\n",
       "      <td>6</td>\n",
       "      <td>0</td>\n",
       "      <td>40</td>\n",
       "      <td>Silver</td>\n",
       "    </tr>\n",
       "    <tr>\n",
       "      <th>1</th>\n",
       "      <td>200</td>\n",
       "      <td>201</td>\n",
       "      <td>Super Mario Bros.</td>\n",
       "      <td>GB</td>\n",
       "      <td>1999-01-01</td>\n",
       "      <td>Platform</td>\n",
       "      <td>Nintendo</td>\n",
       "      <td>3</td>\n",
       "      <td>1</td>\n",
       "      <td>0</td>\n",
       "      <td>0</td>\n",
       "      <td>5</td>\n",
       "      <td>Silver</td>\n",
       "    </tr>\n",
       "  </tbody>\n",
       "</table>\n",
       "</div>"
      ],
      "text/plain": [
       "   index  Ranking               Nome Plataforma        Ano    Gênero  \\\n",
       "0      1        2  Super Mario Bros.        NES 1985-01-01  Platform   \n",
       "1    200      201  Super Mario Bros.         GB 1999-01-01  Platform   \n",
       "\n",
       "    Editora  Vendas America do Norte  Vendas Europa  Vendas Japão  \\\n",
       "0  Nintendo                       29              3             6   \n",
       "1  Nintendo                        3              1             0   \n",
       "\n",
       "   Outras Vendas  Vendas Globais  Status  \n",
       "0              0              40  Silver  \n",
       "1              0               5  Silver  "
      ]
     },
     "execution_count": 24,
     "metadata": {},
     "output_type": "execute_result"
    }
   ],
   "source": [
    "dados.loc[(dados['Editora'] == 'Nintendo') & (dados['Nome'] == 'Super Mario Bros.')].reset_index()"
   ]
  },
  {
   "cell_type": "markdown",
   "metadata": {},
   "source": [
    "**Verificar qual foi o maior número de vendas do Japão, ordene do maior para p menor**"
   ]
  },
  {
   "cell_type": "code",
   "execution_count": 25,
   "metadata": {
    "ExecuteTime": {
     "end_time": "2021-07-27T16:12:42.525140Z",
     "start_time": "2021-07-27T16:12:42.484055Z"
    }
   },
   "outputs": [
    {
     "data": {
      "text/html": [
       "<div>\n",
       "<style scoped>\n",
       "    .dataframe tbody tr th:only-of-type {\n",
       "        vertical-align: middle;\n",
       "    }\n",
       "\n",
       "    .dataframe tbody tr th {\n",
       "        vertical-align: top;\n",
       "    }\n",
       "\n",
       "    .dataframe thead th {\n",
       "        text-align: right;\n",
       "    }\n",
       "</style>\n",
       "<table border=\"1\" class=\"dataframe\">\n",
       "  <thead>\n",
       "    <tr style=\"text-align: right;\">\n",
       "      <th></th>\n",
       "      <th>Ranking</th>\n",
       "      <th>Nome</th>\n",
       "      <th>Plataforma</th>\n",
       "      <th>Ano</th>\n",
       "      <th>Gênero</th>\n",
       "      <th>Editora</th>\n",
       "      <th>Vendas America do Norte</th>\n",
       "      <th>Vendas Europa</th>\n",
       "      <th>Vendas Japão</th>\n",
       "      <th>Outras Vendas</th>\n",
       "      <th>Vendas Globais</th>\n",
       "      <th>Status</th>\n",
       "    </tr>\n",
       "  </thead>\n",
       "  <tbody>\n",
       "    <tr>\n",
       "      <th>4</th>\n",
       "      <td>5</td>\n",
       "      <td>Pokemon Red/Pokemon Blue</td>\n",
       "      <td>GB</td>\n",
       "      <td>1996-01-01</td>\n",
       "      <td>Role-Playing</td>\n",
       "      <td>Nintendo</td>\n",
       "      <td>11</td>\n",
       "      <td>8</td>\n",
       "      <td>10</td>\n",
       "      <td>1</td>\n",
       "      <td>31</td>\n",
       "      <td>Silver</td>\n",
       "    </tr>\n",
       "    <tr>\n",
       "      <th>12</th>\n",
       "      <td>13</td>\n",
       "      <td>Pokemon Gold/Pokemon Silver</td>\n",
       "      <td>GB</td>\n",
       "      <td>1999-01-01</td>\n",
       "      <td>Role-Playing</td>\n",
       "      <td>Nintendo</td>\n",
       "      <td>9</td>\n",
       "      <td>6</td>\n",
       "      <td>7</td>\n",
       "      <td>0</td>\n",
       "      <td>23</td>\n",
       "      <td>Silver</td>\n",
       "    </tr>\n",
       "    <tr>\n",
       "      <th>1</th>\n",
       "      <td>2</td>\n",
       "      <td>Super Mario Bros.</td>\n",
       "      <td>NES</td>\n",
       "      <td>1985-01-01</td>\n",
       "      <td>Platform</td>\n",
       "      <td>Nintendo</td>\n",
       "      <td>29</td>\n",
       "      <td>3</td>\n",
       "      <td>6</td>\n",
       "      <td>0</td>\n",
       "      <td>40</td>\n",
       "      <td>Silver</td>\n",
       "    </tr>\n",
       "    <tr>\n",
       "      <th>20</th>\n",
       "      <td>21</td>\n",
       "      <td>Pokemon Diamond/Pokemon Pearl</td>\n",
       "      <td>DS</td>\n",
       "      <td>2006-01-01</td>\n",
       "      <td>Role-Playing</td>\n",
       "      <td>Nintendo</td>\n",
       "      <td>6</td>\n",
       "      <td>4</td>\n",
       "      <td>6</td>\n",
       "      <td>1</td>\n",
       "      <td>18</td>\n",
       "      <td>Silver</td>\n",
       "    </tr>\n",
       "    <tr>\n",
       "      <th>6</th>\n",
       "      <td>7</td>\n",
       "      <td>New Super Mario Bros.</td>\n",
       "      <td>DS</td>\n",
       "      <td>2006-01-01</td>\n",
       "      <td>Platform</td>\n",
       "      <td>Nintendo</td>\n",
       "      <td>11</td>\n",
       "      <td>9</td>\n",
       "      <td>6</td>\n",
       "      <td>2</td>\n",
       "      <td>30</td>\n",
       "      <td>Silver</td>\n",
       "    </tr>\n",
       "    <tr>\n",
       "      <th>...</th>\n",
       "      <td>...</td>\n",
       "      <td>...</td>\n",
       "      <td>...</td>\n",
       "      <td>...</td>\n",
       "      <td>...</td>\n",
       "      <td>...</td>\n",
       "      <td>...</td>\n",
       "      <td>...</td>\n",
       "      <td>...</td>\n",
       "      <td>...</td>\n",
       "      <td>...</td>\n",
       "      <td>...</td>\n",
       "    </tr>\n",
       "    <tr>\n",
       "      <th>5697</th>\n",
       "      <td>5699</td>\n",
       "      <td>Virtua Striker 2</td>\n",
       "      <td>DC</td>\n",
       "      <td>1999-01-01</td>\n",
       "      <td>Sports</td>\n",
       "      <td>Sega</td>\n",
       "      <td>0</td>\n",
       "      <td>0</td>\n",
       "      <td>0</td>\n",
       "      <td>0</td>\n",
       "      <td>0</td>\n",
       "      <td>Silver</td>\n",
       "    </tr>\n",
       "    <tr>\n",
       "      <th>5698</th>\n",
       "      <td>5700</td>\n",
       "      <td>Fable III</td>\n",
       "      <td>PC</td>\n",
       "      <td>2011-01-01</td>\n",
       "      <td>Role-Playing</td>\n",
       "      <td>Microsoft Game Studios</td>\n",
       "      <td>0</td>\n",
       "      <td>0</td>\n",
       "      <td>0</td>\n",
       "      <td>0</td>\n",
       "      <td>0</td>\n",
       "      <td>Silver</td>\n",
       "    </tr>\n",
       "    <tr>\n",
       "      <th>5699</th>\n",
       "      <td>5701</td>\n",
       "      <td>Dragon Ball: XenoVerse</td>\n",
       "      <td>XOne</td>\n",
       "      <td>2015-01-01</td>\n",
       "      <td>Fighting</td>\n",
       "      <td>Namco Bandai Games</td>\n",
       "      <td>0</td>\n",
       "      <td>0</td>\n",
       "      <td>0</td>\n",
       "      <td>0</td>\n",
       "      <td>0</td>\n",
       "      <td>Silver</td>\n",
       "    </tr>\n",
       "    <tr>\n",
       "      <th>5700</th>\n",
       "      <td>5702</td>\n",
       "      <td>Might &amp; Magic Heroes VI</td>\n",
       "      <td>PC</td>\n",
       "      <td>2011-01-01</td>\n",
       "      <td>Role-Playing</td>\n",
       "      <td>Ubisoft</td>\n",
       "      <td>0</td>\n",
       "      <td>0</td>\n",
       "      <td>0</td>\n",
       "      <td>0</td>\n",
       "      <td>0</td>\n",
       "      <td>Silver</td>\n",
       "    </tr>\n",
       "    <tr>\n",
       "      <th>16597</th>\n",
       "      <td>16600</td>\n",
       "      <td>Spirits &amp; Spells</td>\n",
       "      <td>GBA</td>\n",
       "      <td>2003-01-01</td>\n",
       "      <td>Platform</td>\n",
       "      <td>Wanadoo</td>\n",
       "      <td>0</td>\n",
       "      <td>0</td>\n",
       "      <td>0</td>\n",
       "      <td>0</td>\n",
       "      <td>0</td>\n",
       "      <td>Silver</td>\n",
       "    </tr>\n",
       "  </tbody>\n",
       "</table>\n",
       "<p>16598 rows × 12 columns</p>\n",
       "</div>"
      ],
      "text/plain": [
       "       Ranking                           Nome Plataforma        Ano  \\\n",
       "4            5       Pokemon Red/Pokemon Blue         GB 1996-01-01   \n",
       "12          13    Pokemon Gold/Pokemon Silver         GB 1999-01-01   \n",
       "1            2              Super Mario Bros.        NES 1985-01-01   \n",
       "20          21  Pokemon Diamond/Pokemon Pearl         DS 2006-01-01   \n",
       "6            7          New Super Mario Bros.         DS 2006-01-01   \n",
       "...        ...                            ...        ...        ...   \n",
       "5697      5699               Virtua Striker 2         DC 1999-01-01   \n",
       "5698      5700                      Fable III         PC 2011-01-01   \n",
       "5699      5701         Dragon Ball: XenoVerse       XOne 2015-01-01   \n",
       "5700      5702        Might & Magic Heroes VI         PC 2011-01-01   \n",
       "16597    16600               Spirits & Spells        GBA 2003-01-01   \n",
       "\n",
       "             Gênero                 Editora  Vendas America do Norte  \\\n",
       "4      Role-Playing                Nintendo                       11   \n",
       "12     Role-Playing                Nintendo                        9   \n",
       "1          Platform                Nintendo                       29   \n",
       "20     Role-Playing                Nintendo                        6   \n",
       "6          Platform                Nintendo                       11   \n",
       "...             ...                     ...                      ...   \n",
       "5697         Sports                    Sega                        0   \n",
       "5698   Role-Playing  Microsoft Game Studios                        0   \n",
       "5699       Fighting      Namco Bandai Games                        0   \n",
       "5700   Role-Playing                 Ubisoft                        0   \n",
       "16597      Platform                 Wanadoo                        0   \n",
       "\n",
       "       Vendas Europa  Vendas Japão  Outras Vendas  Vendas Globais  Status  \n",
       "4                  8            10              1              31  Silver  \n",
       "12                 6             7              0              23  Silver  \n",
       "1                  3             6              0              40  Silver  \n",
       "20                 4             6              1              18  Silver  \n",
       "6                  9             6              2              30  Silver  \n",
       "...              ...           ...            ...             ...     ...  \n",
       "5697               0             0              0               0  Silver  \n",
       "5698               0             0              0               0  Silver  \n",
       "5699               0             0              0               0  Silver  \n",
       "5700               0             0              0               0  Silver  \n",
       "16597              0             0              0               0  Silver  \n",
       "\n",
       "[16598 rows x 12 columns]"
      ]
     },
     "execution_count": 25,
     "metadata": {},
     "output_type": "execute_result"
    }
   ],
   "source": [
    "# O sort_values irá ordenar pela coluna especificada pelo \"by\". Caso queria o maior valor, mudar para False.\n",
    "dados.sort_values(by='Vendas Japão', ascending=False)\n",
    "\n",
    "# Verificar como apresentar somente a linha específica da resposta."
   ]
  },
  {
   "cell_type": "markdown",
   "metadata": {},
   "source": [
    "## Data Visualization "
   ]
  },
  {
   "cell_type": "markdown",
   "metadata": {},
   "source": [
    "**Faça um gráfico de barras para verificar qual é a Plataforma que mais aparece no dataframe**"
   ]
  },
  {
   "cell_type": "code",
   "execution_count": 26,
   "metadata": {
    "ExecuteTime": {
     "end_time": "2021-07-27T16:12:43.057763Z",
     "start_time": "2021-07-27T16:12:42.529934Z"
    }
   },
   "outputs": [
    {
     "data": {
      "image/png": "[encoded data removed]",
      "text/plain": [
       "<Figure size 1368x504 with 1 Axes>"
      ]
     },
     "metadata": {
      "needs_background": "light"
     },
     "output_type": "display_data"
    }
   ],
   "source": [
    "# especificar o tamanho do gráfico\n",
    "plt.figure(figsize=(19,7))\n",
    "\n",
    "# gráfico de barras(parâmetros)\n",
    "sns.countplot(x='Plataforma', data=dados, palette='viridis');\n"
   ]
  },
  {
   "cell_type": "markdown",
   "metadata": {},
   "source": [
    "**Faça um gráfico de Correlação, e verifique se existe alguma correlação entre as variáveis**"
   ]
  },
  {
   "cell_type": "code",
   "execution_count": 27,
   "metadata": {
    "ExecuteTime": {
     "end_time": "2021-07-27T16:12:44.241992Z",
     "start_time": "2021-07-27T16:12:43.061784Z"
    }
   },
   "outputs": [
    {
     "data": {
      "image/png": "[encoded data removed]",
      "text/plain": [
       "<Figure size 1008x648 with 2 Axes>"
      ]
     },
     "metadata": {
      "needs_background": "light"
     },
     "output_type": "display_data"
    }
   ],
   "source": [
    "plt.figure(figsize=(14,9))\n",
    "sns.heatmap(dados.corr(), annot=True, cmap='RdBu_r');\n"
   ]
  },
  {
   "cell_type": "markdown",
   "metadata": {},
   "source": [
    "coloque aqui a explicação da análise"
   ]
  },
  {
   "cell_type": "markdown",
   "metadata": {},
   "source": [
    "- Vendas America do Norte contribuiram muito com as vendas globais"
   ]
  },
  {
   "cell_type": "markdown",
   "metadata": {},
   "source": [
    "**Faça um gráfico de linhas para sabermos como foram as vendas da América do Norte, EUA, Japão e Vendas Globais**"
   ]
  },
  {
   "cell_type": "code",
   "execution_count": 28,
   "metadata": {
    "ExecuteTime": {
     "end_time": "2021-07-27T16:12:44.680312Z",
     "start_time": "2021-07-27T16:12:44.244851Z"
    }
   },
   "outputs": [
    {
     "name": "stderr",
     "output_type": "stream",
     "text": [
      "<ipython-input-28-16edd8d4bb86>:6: FutureWarning: Indexing with multiple keys (implicitly converted to a tuple of keys) will be deprecated, use a list instead.\n",
      "  dados_sum = dados1['Vendas America do Norte', 'Vendas Europa', 'Vendas Japão', 'Vendas Globais'].sum()\n"
     ]
    },
    {
     "data": {
      "text/plain": [
       "<Figure size 576x576 with 0 Axes>"
      ]
     },
     "metadata": {},
     "output_type": "display_data"
    },
    {
     "data": {
      "image/png": "[encoded data removed]",
      "text/plain": [
       "<Figure size 1296x504 with 1 Axes>"
      ]
     },
     "metadata": {
      "needs_background": "light"
     },
     "output_type": "display_data"
    }
   ],
   "source": [
    "# Agrupamento dos anos para que não ficar muito extenso. Será o valor de X\n",
    "dados1 = dados.groupby(['Ano'])\n",
    "plt.figure(figsize=(8,8))\n",
    "\n",
    "# Somando as vendas de cada região por ano.\n",
    "dados_sum = dados1['Vendas America do Norte', 'Vendas Europa', 'Vendas Japão', 'Vendas Globais'].sum()\n",
    "dados_sum.plot(figsize=(18,7))\n",
    "plt.title('Vendas ao longo dos anos');\n"
   ]
  },
  {
   "cell_type": "markdown",
   "metadata": {},
   "source": [
    "coloque aqui a explicação da análise"
   ]
  },
  {
   "cell_type": "markdown",
   "metadata": {
    "ExecuteTime": {
     "end_time": "2021-07-27T02:17:47.982210Z",
     "start_time": "2021-07-27T02:17:47.965187Z"
    }
   },
   "source": [
    "**Faça um gráfico de Pizza onde demonstrar a distribuição % de cada Gênero do dataset**"
   ]
  },
  {
   "cell_type": "code",
   "execution_count": 38,
   "metadata": {
    "ExecuteTime": {
     "end_time": "2021-07-27T16:12:44.931153Z",
     "start_time": "2021-07-27T16:12:44.683377Z"
    }
   },
   "outputs": [
    {
     "data": {
      "image/png": "[encoded data removed]",
      "text/plain": [
       "<Figure size 504x504 with 1 Axes>"
      ]
     },
     "metadata": {},
     "output_type": "display_data"
    }
   ],
   "source": [
    "# Criar variável para o nome das fatias pela coluna gênero. O .index é pra pegar o nome da coluna\n",
    "labels = dados['Gênero'].value_counts().index\n",
    "\n",
    "# Para criar o número de fatias\n",
    "explode = [0,0,0,0,0,0,0,0,0,0,0,0]\n",
    "\n",
    "# Contar a quantidade de valores da colunas gênero e mostrar por quantidade\n",
    "sizes = dados['Gênero'].value_counts().values\n",
    "\n",
    "# Tamanho do gráfico\n",
    "plt.figure(figsize = (7,7))\n",
    "\n",
    "# Passar no parâmetro (valores, fatias, cor, pra apresentar o valor em porcentagem)\n",
    "plt.pie(sizes, explode=explode, labels=labels, colors=sns.color_palette('Set2'), autopct='%1.1f%%')\n",
    "\n",
    "# Criação do Título\n",
    "plt.title('Jogos de Acordo com o Gênero', fontsize=17, color='blue');\n"
   ]
  },
  {
   "cell_type": "markdown",
   "metadata": {},
   "source": [
    "**Faça um gráfico que mostre as TOP 15 das plataformas que mais venderam no dataset** "
   ]
  },
  {
   "cell_type": "code",
   "execution_count": 43,
   "metadata": {
    "ExecuteTime": {
     "end_time": "2021-07-27T16:12:45.337674Z",
     "start_time": "2021-07-27T16:12:44.934029Z"
    }
   },
   "outputs": [
    {
     "data": {
      "image/png": "[encoded data removed]",
      "text/plain": [
       "<Figure size 1080x360 with 1 Axes>"
      ]
     },
     "metadata": {
      "needs_background": "light"
     },
     "output_type": "display_data"
    }
   ],
   "source": [
    "# Agrupar pelo eixo X (Categórica), coluna que vai utilizar os valores(somar). Colocar o ordem e selecionar os 15 primeiros.\n",
    "# Plot inicia os dados do gráfico\n",
    "dados.groupby('Plataforma')['Vendas Globais'].sum().sort_values(ascending=False).head(15).plot(\n",
    "    kind='bar', \n",
    "    figsize=(15,5), \n",
    "    grid=False,\n",
    "    rot=0,\n",
    "    color=('lightseagreen'))\n",
    "\n",
    "plt.title('Top 15 Plataformas')\n",
    "plt.xlabel('Plataforma dos Jogos')\n",
    "plt.ylabel('Vendas')\n",
    "plt.show()\n"
   ]
  },
  {
   "cell_type": "markdown",
   "metadata": {},
   "source": [
    "**Faça um gráfico de dispersão das variáveis \"Vendas América do Norte\" e \"Vendas Globais\", em seguida, ajuste o modelo de regressão representado por uma linha de regressão**"
   ]
  },
  {
   "cell_type": "code",
   "execution_count": 47,
   "metadata": {
    "ExecuteTime": {
     "end_time": "2021-07-27T16:12:46.939457Z",
     "start_time": "2021-07-27T16:12:45.341557Z"
    }
   },
   "outputs": [
    {
     "data": {
      "image/png": "[encoded data removed]",
      "text/plain": [
       "<Figure size 360x360 with 1 Axes>"
      ]
     },
     "metadata": {
      "needs_background": "light"
     },
     "output_type": "display_data"
    }
   ],
   "source": [
    "# Dispersão é para verificar se existe coorelação entre duas variáveis numéricas\n",
    "sns.lmplot(x='Vendas America do Norte', y='Vendas Globais', data=dados)\n",
    "plt.show()"
   ]
  },
  {
   "cell_type": "markdown",
   "metadata": {},
   "source": [
    "coloque aqui a explicação da análise"
   ]
  },
  {
   "cell_type": "code",
   "execution_count": null,
   "metadata": {},
   "outputs": [],
   "source": []
  },
  {
   "cell_type": "markdown",
   "metadata": {},
   "source": [
    "**Faça um gráfico que mostre o Top 10 de Editoras que mais venderam no dataset**"
   ]
  },
  {
   "cell_type": "code",
   "execution_count": 58,
   "metadata": {
    "ExecuteTime": {
     "end_time": "2021-07-27T16:12:47.362612Z",
     "start_time": "2021-07-27T16:12:46.944278Z"
    }
   },
   "outputs": [
    {
     "data": {
      "image/png": "[encoded data removed]",
      "text/plain": [
       "<Figure size 1800x360 with 1 Axes>"
      ]
     },
     "metadata": {
      "needs_background": "light"
     },
     "output_type": "display_data"
    }
   ],
   "source": [
    "# Agrupar pelo eixo X (Categórica), coluna que vai utilizar os valores(somar). Colocar o ordem e selecionar os 15 primeiros.\n",
    "# Plot inicia os dados do gráfico\n",
    "dados.groupby('Editora')['Vendas Globais'].sum().sort_values(ascending=False).head(10).plot(\n",
    "    kind='bar', \n",
    "    figsize=(25,5), \n",
    "    grid=False,\n",
    "    rot=0,\n",
    "    color=('lightseagreen'))\n",
    "\n",
    "plt.title('Top 15 Plataformas')\n",
    "plt.xlabel('Plataforma dos Jogos')\n",
    "plt.ylabel('Vendas')\n",
    "plt.show()"
   ]
  },
  {
   "cell_type": "code",
   "execution_count": null,
   "metadata": {
    "ExecuteTime": {
     "end_time": "2021-07-27T16:12:47.769042Z",
     "start_time": "2021-07-27T16:12:47.367598Z"
    }
   },
   "outputs": [],
   "source": []
  },
  {
   "cell_type": "markdown",
   "metadata": {},
   "source": [
    "coloque aqui a explicação da análise"
   ]
  },
  {
   "cell_type": "markdown",
   "metadata": {},
   "source": [
    "**Faça um gráfico que mostre o jogos lançados pelas 10 maiores editora de jogos**"
   ]
  },
  {
   "cell_type": "code",
   "execution_count": 59,
   "metadata": {
    "ExecuteTime": {
     "end_time": "2021-07-27T16:12:48.222041Z",
     "start_time": "2021-07-27T16:12:47.773389Z"
    },
    "scrolled": false
   },
   "outputs": [
    {
     "data": {
      "image/png": "[encoded data removed]",
      "text/plain": [
       "<Figure size 1080x432 with 1 Axes>"
      ]
     },
     "metadata": {
      "needs_background": "light"
     },
     "output_type": "display_data"
    }
   ],
   "source": [
    "# Tamanho do gráfico\n",
    "plt.figure(figsize=(15,6))\n",
    "\n",
    "#Tipo de gráfico pelo seaborn, x é o nome das linhas da coluna, y é quantidade de linhas da colunas. o slice :10 é para\n",
    "# separar a quantidade de editoras para 10 e Y para utilizar a quantidade de linhas somadas dos valores das 10 editoras\n",
    "# separadas antes. \n",
    "sns.barplot(x=dados['Editora'].value_counts().index[:10], y=dados['Editora'].value_counts().values[:10], data=dados)\n",
    "plt.xticks(rotation=60)\n",
    "plt.xlabel('Nome da Editora')\n",
    "plt.ylabel('Número de jogos')\n",
    "plt.title('Número de jogos lançados pela 10 maiores empresas', color='black', fontsize=12);\n"
   ]
  },
  {
   "cell_type": "code",
   "execution_count": null,
   "metadata": {},
   "outputs": [],
   "source": []
  }
 ],
 "metadata": {
  "kernelspec": {
   "display_name": "Python 3",
   "language": "python",
   "name": "python3"
  },
  "language_info": {
   "codemirror_mode": {
    "name": "ipython",
    "version": 3
   },
   "file_extension": ".py",
   "mimetype": "text/x-python",
   "name": "python",
   "nbconvert_exporter": "python",
   "pygments_lexer": "ipython3",
   "version": "3.8.8"
  },
  "toc": {
   "base_numbering": 1,
   "nav_menu": {},
   "number_sections": true,
   "sideBar": true,
   "skip_h1_title": false,
   "title_cell": "Table of Contents",
   "title_sidebar": "Contents",
   "toc_cell": false,
   "toc_position": {
    "height": "calc(100% - 180px)",
    "left": "10px",
    "top": "150px",
    "width": "245.76px"
   },
   "toc_section_display": true,
   "toc_window_display": false
  }
 },
 "nbformat": 4,
 "nbformat_minor": 4
}
